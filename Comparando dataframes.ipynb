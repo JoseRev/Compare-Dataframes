{
 "cells": [
  {
   "cell_type": "code",
   "execution_count": 69,
   "metadata": {},
   "outputs": [],
   "source": [
    "import pandas as pd\n",
    "from pathlib import Path\n",
    "import os"
   ]
  },
  {
   "cell_type": "markdown",
   "metadata": {},
   "source": [
    "**Seleccionar el directorio donde se esté ejecutando el programa**"
   ]
  },
  {
   "cell_type": "code",
   "execution_count": 78,
   "metadata": {},
   "outputs": [],
   "source": [
    "#en PC CECOM:\n",
    "os.chdir(\"C:/Users/gabri/Desktop/Base-Datos-Cecom\")"
   ]
  },
  {
   "cell_type": "code",
   "execution_count": 85,
   "metadata": {},
   "outputs": [
    {
     "data": {
      "text/plain": [
       "'C:\\\\Users\\\\gabri\\\\Desktop\\\\Base-Datos-Cecom'"
      ]
     },
     "execution_count": 85,
     "metadata": {},
     "output_type": "execute_result"
    }
   ],
   "source": [
    "os.getcwd()"
   ]
  },
  {
   "cell_type": "markdown",
   "metadata": {},
   "source": [
    "**Seleccionar carpeta de dataframes**"
   ]
  },
  {
   "cell_type": "code",
   "execution_count": 79,
   "metadata": {},
   "outputs": [
    {
     "name": "stdout",
     "output_type": "stream",
     "text": [
      "Este programa compara las configuraciones de los distintos dataframes\n",
      "Seleccione carpeta:\n",
      "1.- Base Datos Plan Numeracion\n",
      "2.- Diferencias de Dataframes\n",
      "3.- Extensiones duplicadas\n",
      "4.- Informacion\n",
      "5.- IP\n",
      "Carpeta: 4\n"
     ]
    }
   ],
   "source": [
    "dirs=os.listdir('database/')\n",
    "print(\"Este programa compara las configuraciones de los distintos dataframes\")\n",
    "print(\"Seleccione carpeta:\")\n",
    "for index,dir in enumerate(dirs):\n",
    "    print(f\"{index+1}.- {dir}\")\n",
    "n_df=input(\"Carpeta: \")\n",
    "carpeta = dirs[int(n_df)-1]"
   ]
  },
  {
   "cell_type": "markdown",
   "metadata": {},
   "source": [
    "**Seleccionar dataframes**"
   ]
  },
  {
   "cell_type": "code",
   "execution_count": 80,
   "metadata": {},
   "outputs": [
    {
     "name": "stdout",
     "output_type": "stream",
     "text": [
      "Seleccione los df's a comparar:\n",
      "1.- base datos antes caida sip 2.csv\n",
      "2.- informacion 07 May. 2020, 17 Hs. 41 min.csv\n",
      "3.- informacion 09 May. 2020, 22 Hs. 49 min.csv\n",
      "4.- informacion 10 Jun. 2020, 08 Hs. 13 min - copia.csv\n",
      "5.- informacion 11 May. 2020, 08 Hs. 13 min - cambios Tapia.csv\n",
      "6.- informacion 11 May. 2020, 08 Hs. 13 min.csv\n",
      "7.- informacion 12 May. 2020, 07 Hs. 37 min.csv\n",
      "8.- informacion 12 May. 2020, 07 Hs. 58 min.csv\n",
      "9.- informacion 12 May. 2020, 08 Hs. 58 min.csv\n",
      "10.- informacion 13 May. 2020, 09 Hs. 32 min.csv\n",
      "11.- informacion 13 May. 2020, 11 Hs. 33 min.csv\n",
      "12.- informacion 13 May. 2020, 14 Hs. 25 min.csv\n",
      "13.- informacion 13 May. 2020, 14 Hs. 44 min - muchos espacios, extensiones con nombres.csv\n",
      "14.- informacion 13 May. 2020, 16 Hs. 22 min.csv\n",
      "15.- informacion 14 May. 2020, 15 Hs. 06 min.csv\n",
      "16.- informacion 15 May. 2020, 11 Hs. 55 min.csv\n",
      "17.- informacion 3 May. 2020, 08 Hs. 13 min.csv\n",
      "18.- información 16 May. 2020, 19 Hs. 43 min.csv\n",
      "19.- información 18 May. 2020, 14 Hs. 52 min.csv\n",
      "20.- información 19 May. 2020, 08 Hs. 36 min.csv\n",
      "21.- información 19 May. 2020, 12 Hs. 29 min.csv\n",
      "22.- información 19 May. 2020, 14 Hs. 23 min.csv\n",
      "23.- información 20 May. 2020, 08 Hs. 21 min.csv\n",
      "24.- información 21 May. 2020, 08 Hs. 32 min.csv\n",
      "25.- información 21 May. 2020, 12 Hs. 31 min.csv\n",
      "26.- información 21 May. 2020, 13 Hs. 02 min.csv\n",
      "27.- información 21 May. 2020, 15 Hs. 04 min.csv\n",
      "28.- información 21 May. 2020, 15 Hs. 30 min.csv\n",
      "29.- información 25 May. 2020, 09 Hs. 37 min.csv\n",
      "30.- información 26 May. 2020, 14 Hs. 32 min.csv\n",
      "31.- información 27 May. 2020, 07 Hs. 37 min.csv\n",
      "32.- información 27 May. 2020, 12 Hs. 45 min.csv\n",
      "33.- información 28 May. 2020, 13 Hs. 16 min.csv\n",
      "34.- información 29 May. 2020, 07 Hs. 57 min.csv\n",
      "No. del dataframe 1: 34\n",
      "Dataframe seleccionado 'información 29 May. 2020, 07 Hs. 57 min.csv'\n",
      "No. del dataframe 2: 33\n",
      "Dataframe seleccionado 'información 28 May. 2020, 13 Hs. 16 min.csv'\n"
     ]
    }
   ],
   "source": [
    "dirs=os.listdir(f'database/{carpeta}')\n",
    "print(\"Seleccione los df's a comparar:\")\n",
    "for index,dir in enumerate(dirs):\n",
    "    print(f\"{index+1}.- {dir}\")\n",
    "\n",
    "n_df1=input(\"No. del dataframe 1: \")\n",
    "print(f\"Dataframe seleccionado '{dirs[int(n_df1)-1]}'\")\n",
    "n_df2=input(\"No. del dataframe 2: \")\n",
    "\n",
    "print(f\"Dataframe seleccionado '{dirs[int(n_df2)-1]}'\")\n",
    "name1=dirs[int(n_df1)-1]\n",
    "name2=dirs[int(n_df2)-1]\n"
   ]
  },
  {
   "cell_type": "markdown",
   "metadata": {},
   "source": [
    "**Seleccionar columnas a comparar**"
   ]
  },
  {
   "cell_type": "code",
   "execution_count": 81,
   "metadata": {},
   "outputs": [],
   "source": [
    "df1=pd.read_csv(\"database/\"+carpeta+\"/\"+name1)\n",
    "df2=pd.read_csv(\"database/\"+carpeta+\"/\"+name2)"
   ]
  },
  {
   "cell_type": "code",
   "execution_count": 82,
   "metadata": {},
   "outputs": [
    {
     "name": "stdout",
     "output_type": "stream",
     "text": [
      "    Columnas dataframe 1\n",
      "0                    DID\n",
      "1                   TIPO\n",
      "2                 UNIDAD\n",
      "3  PARTITION/RUTA SALIDA\n",
      "4                 IP PBX\n",
      "\n",
      "    Columnas dataframe 2\n",
      "0                    DID\n",
      "1                   TIPO\n",
      "2                 UNIDAD\n",
      "3  PARTITION/RUTA SALIDA\n",
      "4                 IP PBX\n",
      "Columnas del dataframe 1 (ej. 1,2,3): 0,1,2\n",
      "Columnas del dataframe 2 (ej. 1,2,3): 0,1,2\n"
     ]
    }
   ],
   "source": [
    "df_c1=pd.DataFrame(df1.columns)\n",
    "df_c1=df_c1.rename(columns={0:\"Columnas dataframe 1\"})\n",
    "print(df_c1)\n",
    "print()\n",
    "df_c2=pd.DataFrame(df2.columns)\n",
    "df_c2=df_c2.rename(columns={0:\"Columnas dataframe 2\"})\n",
    "print(df_c2)\n",
    "col_1=input(\"Columnas del dataframe 1 (ej. 1,2,3): \")\n",
    "col_2=input(\"Columnas del dataframe 2 (ej. 1,2,3): \")"
   ]
  },
  {
   "cell_type": "code",
   "execution_count": 83,
   "metadata": {},
   "outputs": [],
   "source": [
    "encabezado_1=[int(element) for element in col_1.split(\",\")]\n",
    "encabezado_2=[int(element) for element in col_2.split(\",\")]\n",
    "df1=df1.iloc[:,encabezado_1]\n",
    "df2=df2.iloc[:,encabezado_2]"
   ]
  },
  {
   "cell_type": "markdown",
   "metadata": {},
   "source": [
    "**Diferencias entre df1 y df2**"
   ]
  },
  {
   "cell_type": "code",
   "execution_count": 84,
   "metadata": {},
   "outputs": [
    {
     "data": {
      "text/html": [
       "<style  type=\"text/css\" >\n",
       "</style><table id=\"T_e9d6d1cc_b008_11ea_ada4_f0bf97e8f51b\" ><thead>    <tr>        <th class=\"col_heading level0 col0\" >DID</th>        <th class=\"col_heading level0 col1\" >TIPO</th>        <th class=\"col_heading level0 col2\" >UNIDAD</th>        <th class=\"col_heading level0 col3\" >Archivo</th>    </tr></thead><tbody>\n",
       "        </tbody></table>"
      ],
      "text/plain": [
       "<pandas.io.formats.style.Styler at 0x180d910f508>"
      ]
     },
     "execution_count": 84,
     "metadata": {},
     "output_type": "execute_result"
    }
   ],
   "source": [
    "df=pd.merge(df1, df2, how='outer',indicator=True)\n",
    "filt1 = (df['_merge']=='right_only') | (df['_merge'] == 'left_only') #print DID related to a change 'left, right or both'\n",
    "df_m=df.loc[filt1, : ]\n",
    "filt=[element in list(df_m['DID']) for element in df['DID']]\n",
    "df=df.loc[filt,:]\n",
    "df=df.sort_values(by=['DID','_merge'])\n",
    "\n",
    "df=df.replace('left_only',name1[:-3])\n",
    "df=df.replace('right_only',name2[:-3])   \n",
    "df=df.rename(columns={\"_merge\":\"Archivo\"})\n",
    "df.style.hide_index()\n",
    "#print(df.to_string(index=False))"
   ]
  },
  {
   "cell_type": "code",
   "execution_count": null,
   "metadata": {},
   "outputs": [],
   "source": []
  }
 ],
 "metadata": {
  "kernelspec": {
   "display_name": "Python 3",
   "language": "python",
   "name": "python3"
  },
  "language_info": {
   "codemirror_mode": {
    "name": "ipython",
    "version": 3
   },
   "file_extension": ".py",
   "mimetype": "text/x-python",
   "name": "python",
   "nbconvert_exporter": "python",
   "pygments_lexer": "ipython3",
   "version": "3.7.7"
  }
 },
 "nbformat": 4,
 "nbformat_minor": 4
}
